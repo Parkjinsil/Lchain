{
 "cells": [
  {
   "cell_type": "markdown",
   "id": "f999a314",
   "metadata": {},
   "source": [
    "## <랭체인과 llama로 RAG 기반의 챗봇 서비스 구현>\n",
    "pip install unstructured : 텍스트 파일 같은 구조화되지 않은 데이터를 다루는 데 사용  \n",
    "pip install sentence-transformers : 문장을 벡터로 변환하고 이를 통해 텍스트 데이터의 의미적 유사성을 계산하기 위해 사용   \n",
    "pip install chromadb : 벡터를 저장하고 유사도 검색을 지원     "
   ]
  },
  {
   "cell_type": "code",
   "execution_count": 2,
   "id": "f9cee9f8",
   "metadata": {},
   "outputs": [
    {
     "name": "stdout",
     "output_type": "stream",
     "text": [
      "Requirement already satisfied: langchain in /home/conet/anaconda3/envs/lchain/lib/python3.10/site-packages (0.2.14)\n",
      "Requirement already satisfied: PyYAML>=5.3 in /home/conet/anaconda3/envs/lchain/lib/python3.10/site-packages (from langchain) (6.0.2)\n",
      "Requirement already satisfied: SQLAlchemy<3,>=1.4 in /home/conet/anaconda3/envs/lchain/lib/python3.10/site-packages (from langchain) (2.0.32)\n",
      "Requirement already satisfied: aiohttp<4.0.0,>=3.8.3 in /home/conet/anaconda3/envs/lchain/lib/python3.10/site-packages (from langchain) (3.10.5)\n",
      "Requirement already satisfied: async-timeout<5.0.0,>=4.0.0 in /home/conet/anaconda3/envs/lchain/lib/python3.10/site-packages (from langchain) (4.0.3)\n",
      "Requirement already satisfied: langchain-core<0.3.0,>=0.2.32 in /home/conet/anaconda3/envs/lchain/lib/python3.10/site-packages (from langchain) (0.2.33)\n",
      "Requirement already satisfied: langchain-text-splitters<0.3.0,>=0.2.0 in /home/conet/anaconda3/envs/lchain/lib/python3.10/site-packages (from langchain) (0.2.2)\n",
      "Requirement already satisfied: langsmith<0.2.0,>=0.1.17 in /home/conet/anaconda3/envs/lchain/lib/python3.10/site-packages (from langchain) (0.1.99)\n",
      "Requirement already satisfied: numpy<2,>=1 in /home/conet/anaconda3/envs/lchain/lib/python3.10/site-packages (from langchain) (1.26.4)\n",
      "Requirement already satisfied: pydantic<3,>=1 in /home/conet/anaconda3/envs/lchain/lib/python3.10/site-packages (from langchain) (2.8.2)\n",
      "Requirement already satisfied: requests<3,>=2 in /home/conet/anaconda3/envs/lchain/lib/python3.10/site-packages (from langchain) (2.32.3)\n",
      "Requirement already satisfied: tenacity!=8.4.0,<9.0.0,>=8.1.0 in /home/conet/anaconda3/envs/lchain/lib/python3.10/site-packages (from langchain) (8.5.0)\n",
      "Requirement already satisfied: aiohappyeyeballs>=2.3.0 in /home/conet/anaconda3/envs/lchain/lib/python3.10/site-packages (from aiohttp<4.0.0,>=3.8.3->langchain) (2.4.0)\n",
      "Requirement already satisfied: aiosignal>=1.1.2 in /home/conet/anaconda3/envs/lchain/lib/python3.10/site-packages (from aiohttp<4.0.0,>=3.8.3->langchain) (1.3.1)\n",
      "Requirement already satisfied: attrs>=17.3.0 in /home/conet/anaconda3/envs/lchain/lib/python3.10/site-packages (from aiohttp<4.0.0,>=3.8.3->langchain) (24.2.0)\n",
      "Requirement already satisfied: frozenlist>=1.1.1 in /home/conet/anaconda3/envs/lchain/lib/python3.10/site-packages (from aiohttp<4.0.0,>=3.8.3->langchain) (1.4.1)\n",
      "Requirement already satisfied: multidict<7.0,>=4.5 in /home/conet/anaconda3/envs/lchain/lib/python3.10/site-packages (from aiohttp<4.0.0,>=3.8.3->langchain) (6.0.5)\n",
      "Requirement already satisfied: yarl<2.0,>=1.0 in /home/conet/anaconda3/envs/lchain/lib/python3.10/site-packages (from aiohttp<4.0.0,>=3.8.3->langchain) (1.9.4)\n",
      "Requirement already satisfied: jsonpatch<2.0,>=1.33 in /home/conet/anaconda3/envs/lchain/lib/python3.10/site-packages (from langchain-core<0.3.0,>=0.2.32->langchain) (1.33)\n",
      "Requirement already satisfied: packaging<25,>=23.2 in /home/conet/anaconda3/envs/lchain/lib/python3.10/site-packages (from langchain-core<0.3.0,>=0.2.32->langchain) (24.1)\n",
      "Requirement already satisfied: typing-extensions>=4.7 in /home/conet/.local/lib/python3.10/site-packages (from langchain-core<0.3.0,>=0.2.32->langchain) (4.12.2)\n",
      "Requirement already satisfied: orjson<4.0.0,>=3.9.14 in /home/conet/anaconda3/envs/lchain/lib/python3.10/site-packages (from langsmith<0.2.0,>=0.1.17->langchain) (3.10.7)\n",
      "Requirement already satisfied: annotated-types>=0.4.0 in /home/conet/anaconda3/envs/lchain/lib/python3.10/site-packages (from pydantic<3,>=1->langchain) (0.7.0)\n",
      "Requirement already satisfied: pydantic-core==2.20.1 in /home/conet/anaconda3/envs/lchain/lib/python3.10/site-packages (from pydantic<3,>=1->langchain) (2.20.1)\n",
      "Requirement already satisfied: charset-normalizer<4,>=2 in /home/conet/anaconda3/envs/lchain/lib/python3.10/site-packages (from requests<3,>=2->langchain) (3.3.2)\n",
      "Requirement already satisfied: idna<4,>=2.5 in /home/conet/anaconda3/envs/lchain/lib/python3.10/site-packages (from requests<3,>=2->langchain) (3.7)\n",
      "Requirement already satisfied: urllib3<3,>=1.21.1 in /home/conet/anaconda3/envs/lchain/lib/python3.10/site-packages (from requests<3,>=2->langchain) (2.2.2)\n",
      "Requirement already satisfied: certifi>=2017.4.17 in /home/conet/anaconda3/envs/lchain/lib/python3.10/site-packages (from requests<3,>=2->langchain) (2024.7.4)\n",
      "Requirement already satisfied: greenlet!=0.4.17 in /home/conet/anaconda3/envs/lchain/lib/python3.10/site-packages (from SQLAlchemy<3,>=1.4->langchain) (3.0.3)\n",
      "Requirement already satisfied: jsonpointer>=1.9 in /home/conet/anaconda3/envs/lchain/lib/python3.10/site-packages (from jsonpatch<2.0,>=1.33->langchain-core<0.3.0,>=0.2.32->langchain) (3.0.0)\n",
      "Note: you may need to restart the kernel to use updated packages.\n"
     ]
    }
   ],
   "source": [
    "pip install langchain"
   ]
  },
  {
   "cell_type": "code",
   "execution_count": 3,
   "id": "7bb7c614",
   "metadata": {},
   "outputs": [
    {
     "name": "stdout",
     "output_type": "stream",
     "text": [
      "Requirement already satisfied: unstructured in /home/conet/anaconda3/envs/lchain/lib/python3.10/site-packages (0.15.5)\n",
      "Requirement already satisfied: chardet in /home/conet/anaconda3/envs/lchain/lib/python3.10/site-packages (from unstructured) (5.2.0)\n",
      "Requirement already satisfied: filetype in /home/conet/anaconda3/envs/lchain/lib/python3.10/site-packages (from unstructured) (1.2.0)\n",
      "Requirement already satisfied: python-magic in /home/conet/anaconda3/envs/lchain/lib/python3.10/site-packages (from unstructured) (0.4.27)\n",
      "Requirement already satisfied: lxml in /home/conet/anaconda3/envs/lchain/lib/python3.10/site-packages (from unstructured) (5.3.0)\n",
      "Requirement already satisfied: nltk in /home/conet/anaconda3/envs/lchain/lib/python3.10/site-packages (from unstructured) (3.9.1)\n",
      "Requirement already satisfied: tabulate in /home/conet/anaconda3/envs/lchain/lib/python3.10/site-packages (from unstructured) (0.9.0)\n",
      "Requirement already satisfied: requests in /home/conet/anaconda3/envs/lchain/lib/python3.10/site-packages (from unstructured) (2.32.3)\n",
      "Requirement already satisfied: beautifulsoup4 in /home/conet/anaconda3/envs/lchain/lib/python3.10/site-packages (from unstructured) (4.12.3)\n",
      "Requirement already satisfied: emoji in /home/conet/anaconda3/envs/lchain/lib/python3.10/site-packages (from unstructured) (2.12.1)\n",
      "Requirement already satisfied: dataclasses-json in /home/conet/anaconda3/envs/lchain/lib/python3.10/site-packages (from unstructured) (0.6.7)\n",
      "Requirement already satisfied: python-iso639 in /home/conet/anaconda3/envs/lchain/lib/python3.10/site-packages (from unstructured) (2024.4.27)\n",
      "Requirement already satisfied: langdetect in /home/conet/anaconda3/envs/lchain/lib/python3.10/site-packages (from unstructured) (1.0.9)\n",
      "Requirement already satisfied: numpy<2 in /home/conet/anaconda3/envs/lchain/lib/python3.10/site-packages (from unstructured) (1.26.4)\n",
      "Requirement already satisfied: rapidfuzz in /home/conet/anaconda3/envs/lchain/lib/python3.10/site-packages (from unstructured) (3.9.6)\n",
      "Requirement already satisfied: backoff in /home/conet/anaconda3/envs/lchain/lib/python3.10/site-packages (from unstructured) (2.2.1)\n",
      "Requirement already satisfied: typing-extensions in /home/conet/.local/lib/python3.10/site-packages (from unstructured) (4.12.2)\n",
      "Requirement already satisfied: unstructured-client in /home/conet/anaconda3/envs/lchain/lib/python3.10/site-packages (from unstructured) (0.25.5)\n",
      "Requirement already satisfied: wrapt in /home/conet/anaconda3/envs/lchain/lib/python3.10/site-packages (from unstructured) (1.16.0)\n",
      "Requirement already satisfied: tqdm in /home/conet/anaconda3/envs/lchain/lib/python3.10/site-packages (from unstructured) (4.66.5)\n",
      "Requirement already satisfied: psutil in /home/conet/anaconda3/envs/lchain/lib/python3.10/site-packages (from unstructured) (5.9.0)\n",
      "Requirement already satisfied: soupsieve>1.2 in /home/conet/anaconda3/envs/lchain/lib/python3.10/site-packages (from beautifulsoup4->unstructured) (2.6)\n",
      "Requirement already satisfied: marshmallow<4.0.0,>=3.18.0 in /home/conet/anaconda3/envs/lchain/lib/python3.10/site-packages (from dataclasses-json->unstructured) (3.21.3)\n",
      "Requirement already satisfied: typing-inspect<1,>=0.4.0 in /home/conet/anaconda3/envs/lchain/lib/python3.10/site-packages (from dataclasses-json->unstructured) (0.9.0)\n",
      "Requirement already satisfied: six in /home/conet/anaconda3/envs/lchain/lib/python3.10/site-packages (from langdetect->unstructured) (1.16.0)\n",
      "Requirement already satisfied: click in /home/conet/anaconda3/envs/lchain/lib/python3.10/site-packages (from nltk->unstructured) (8.1.7)\n",
      "Requirement already satisfied: joblib in /home/conet/anaconda3/envs/lchain/lib/python3.10/site-packages (from nltk->unstructured) (1.4.2)\n",
      "Requirement already satisfied: regex>=2021.8.3 in /home/conet/anaconda3/envs/lchain/lib/python3.10/site-packages (from nltk->unstructured) (2024.7.24)\n",
      "Requirement already satisfied: charset-normalizer<4,>=2 in /home/conet/anaconda3/envs/lchain/lib/python3.10/site-packages (from requests->unstructured) (3.3.2)\n",
      "Requirement already satisfied: idna<4,>=2.5 in /home/conet/anaconda3/envs/lchain/lib/python3.10/site-packages (from requests->unstructured) (3.7)\n",
      "Requirement already satisfied: urllib3<3,>=1.21.1 in /home/conet/anaconda3/envs/lchain/lib/python3.10/site-packages (from requests->unstructured) (2.2.2)\n",
      "Requirement already satisfied: certifi>=2017.4.17 in /home/conet/anaconda3/envs/lchain/lib/python3.10/site-packages (from requests->unstructured) (2024.7.4)\n",
      "Requirement already satisfied: deepdiff>=6.0 in /home/conet/anaconda3/envs/lchain/lib/python3.10/site-packages (from unstructured-client->unstructured) (7.0.1)\n",
      "Requirement already satisfied: httpx>=0.27.0 in /home/conet/anaconda3/envs/lchain/lib/python3.10/site-packages (from unstructured-client->unstructured) (0.27.0)\n",
      "Requirement already satisfied: jsonpath-python>=1.0.6 in /home/conet/anaconda3/envs/lchain/lib/python3.10/site-packages (from unstructured-client->unstructured) (1.0.6)\n",
      "Requirement already satisfied: mypy-extensions>=1.0.0 in /home/conet/anaconda3/envs/lchain/lib/python3.10/site-packages (from unstructured-client->unstructured) (1.0.0)\n",
      "Requirement already satisfied: nest-asyncio>=1.6.0 in /home/conet/anaconda3/envs/lchain/lib/python3.10/site-packages (from unstructured-client->unstructured) (1.6.0)\n",
      "Requirement already satisfied: packaging>=23.1 in /home/conet/anaconda3/envs/lchain/lib/python3.10/site-packages (from unstructured-client->unstructured) (24.1)\n",
      "Requirement already satisfied: pypdf>=4.0 in /home/conet/anaconda3/envs/lchain/lib/python3.10/site-packages (from unstructured-client->unstructured) (4.3.1)\n",
      "Requirement already satisfied: python-dateutil>=2.8.2 in /home/conet/anaconda3/envs/lchain/lib/python3.10/site-packages (from unstructured-client->unstructured) (2.9.0)\n",
      "Requirement already satisfied: requests-toolbelt>=1.0.0 in /home/conet/anaconda3/envs/lchain/lib/python3.10/site-packages (from unstructured-client->unstructured) (1.0.0)\n",
      "Requirement already satisfied: ordered-set<4.2.0,>=4.1.0 in /home/conet/anaconda3/envs/lchain/lib/python3.10/site-packages (from deepdiff>=6.0->unstructured-client->unstructured) (4.1.0)\n",
      "Requirement already satisfied: anyio in /home/conet/anaconda3/envs/lchain/lib/python3.10/site-packages (from httpx>=0.27.0->unstructured-client->unstructured) (4.4.0)\n",
      "Requirement already satisfied: httpcore==1.* in /home/conet/anaconda3/envs/lchain/lib/python3.10/site-packages (from httpx>=0.27.0->unstructured-client->unstructured) (1.0.5)\n",
      "Requirement already satisfied: sniffio in /home/conet/anaconda3/envs/lchain/lib/python3.10/site-packages (from httpx>=0.27.0->unstructured-client->unstructured) (1.3.1)\n",
      "Requirement already satisfied: h11<0.15,>=0.13 in /home/conet/anaconda3/envs/lchain/lib/python3.10/site-packages (from httpcore==1.*->httpx>=0.27.0->unstructured-client->unstructured) (0.14.0)\n",
      "Requirement already satisfied: exceptiongroup>=1.0.2 in /home/conet/anaconda3/envs/lchain/lib/python3.10/site-packages (from anyio->httpx>=0.27.0->unstructured-client->unstructured) (1.2.2)\n"
     ]
    }
   ],
   "source": [
    "!pip install unstructured"
   ]
  },
  {
   "cell_type": "code",
   "execution_count": 4,
   "id": "1a033d69",
   "metadata": {},
   "outputs": [
    {
     "name": "stdout",
     "output_type": "stream",
     "text": [
      "Requirement already satisfied: langchain-community in /home/conet/anaconda3/envs/lchain/lib/python3.10/site-packages (0.2.12)\n",
      "Requirement already satisfied: PyYAML>=5.3 in /home/conet/anaconda3/envs/lchain/lib/python3.10/site-packages (from langchain-community) (6.0.2)\n",
      "Requirement already satisfied: SQLAlchemy<3,>=1.4 in /home/conet/anaconda3/envs/lchain/lib/python3.10/site-packages (from langchain-community) (2.0.32)\n",
      "Requirement already satisfied: aiohttp<4.0.0,>=3.8.3 in /home/conet/anaconda3/envs/lchain/lib/python3.10/site-packages (from langchain-community) (3.10.5)\n",
      "Requirement already satisfied: dataclasses-json<0.7,>=0.5.7 in /home/conet/anaconda3/envs/lchain/lib/python3.10/site-packages (from langchain-community) (0.6.7)\n",
      "Requirement already satisfied: langchain<0.3.0,>=0.2.13 in /home/conet/anaconda3/envs/lchain/lib/python3.10/site-packages (from langchain-community) (0.2.14)\n",
      "Requirement already satisfied: langchain-core<0.3.0,>=0.2.30 in /home/conet/anaconda3/envs/lchain/lib/python3.10/site-packages (from langchain-community) (0.2.33)\n",
      "Requirement already satisfied: langsmith<0.2.0,>=0.1.0 in /home/conet/anaconda3/envs/lchain/lib/python3.10/site-packages (from langchain-community) (0.1.99)\n",
      "Requirement already satisfied: numpy<2,>=1 in /home/conet/anaconda3/envs/lchain/lib/python3.10/site-packages (from langchain-community) (1.26.4)\n",
      "Requirement already satisfied: requests<3,>=2 in /home/conet/anaconda3/envs/lchain/lib/python3.10/site-packages (from langchain-community) (2.32.3)\n",
      "Requirement already satisfied: tenacity!=8.4.0,<9.0.0,>=8.1.0 in /home/conet/anaconda3/envs/lchain/lib/python3.10/site-packages (from langchain-community) (8.5.0)\n",
      "Requirement already satisfied: aiohappyeyeballs>=2.3.0 in /home/conet/anaconda3/envs/lchain/lib/python3.10/site-packages (from aiohttp<4.0.0,>=3.8.3->langchain-community) (2.4.0)\n",
      "Requirement already satisfied: aiosignal>=1.1.2 in /home/conet/anaconda3/envs/lchain/lib/python3.10/site-packages (from aiohttp<4.0.0,>=3.8.3->langchain-community) (1.3.1)\n",
      "Requirement already satisfied: attrs>=17.3.0 in /home/conet/anaconda3/envs/lchain/lib/python3.10/site-packages (from aiohttp<4.0.0,>=3.8.3->langchain-community) (24.2.0)\n",
      "Requirement already satisfied: frozenlist>=1.1.1 in /home/conet/anaconda3/envs/lchain/lib/python3.10/site-packages (from aiohttp<4.0.0,>=3.8.3->langchain-community) (1.4.1)\n",
      "Requirement already satisfied: multidict<7.0,>=4.5 in /home/conet/anaconda3/envs/lchain/lib/python3.10/site-packages (from aiohttp<4.0.0,>=3.8.3->langchain-community) (6.0.5)\n",
      "Requirement already satisfied: yarl<2.0,>=1.0 in /home/conet/anaconda3/envs/lchain/lib/python3.10/site-packages (from aiohttp<4.0.0,>=3.8.3->langchain-community) (1.9.4)\n",
      "Requirement already satisfied: async-timeout<5.0,>=4.0 in /home/conet/anaconda3/envs/lchain/lib/python3.10/site-packages (from aiohttp<4.0.0,>=3.8.3->langchain-community) (4.0.3)\n",
      "Requirement already satisfied: marshmallow<4.0.0,>=3.18.0 in /home/conet/anaconda3/envs/lchain/lib/python3.10/site-packages (from dataclasses-json<0.7,>=0.5.7->langchain-community) (3.21.3)\n",
      "Requirement already satisfied: typing-inspect<1,>=0.4.0 in /home/conet/anaconda3/envs/lchain/lib/python3.10/site-packages (from dataclasses-json<0.7,>=0.5.7->langchain-community) (0.9.0)\n",
      "Requirement already satisfied: langchain-text-splitters<0.3.0,>=0.2.0 in /home/conet/anaconda3/envs/lchain/lib/python3.10/site-packages (from langchain<0.3.0,>=0.2.13->langchain-community) (0.2.2)\n",
      "Requirement already satisfied: pydantic<3,>=1 in /home/conet/anaconda3/envs/lchain/lib/python3.10/site-packages (from langchain<0.3.0,>=0.2.13->langchain-community) (2.8.2)\n",
      "Requirement already satisfied: jsonpatch<2.0,>=1.33 in /home/conet/anaconda3/envs/lchain/lib/python3.10/site-packages (from langchain-core<0.3.0,>=0.2.30->langchain-community) (1.33)\n",
      "Requirement already satisfied: packaging<25,>=23.2 in /home/conet/anaconda3/envs/lchain/lib/python3.10/site-packages (from langchain-core<0.3.0,>=0.2.30->langchain-community) (24.1)\n",
      "Requirement already satisfied: typing-extensions>=4.7 in /home/conet/.local/lib/python3.10/site-packages (from langchain-core<0.3.0,>=0.2.30->langchain-community) (4.12.2)\n",
      "Requirement already satisfied: orjson<4.0.0,>=3.9.14 in /home/conet/anaconda3/envs/lchain/lib/python3.10/site-packages (from langsmith<0.2.0,>=0.1.0->langchain-community) (3.10.7)\n",
      "Requirement already satisfied: charset-normalizer<4,>=2 in /home/conet/anaconda3/envs/lchain/lib/python3.10/site-packages (from requests<3,>=2->langchain-community) (3.3.2)\n",
      "Requirement already satisfied: idna<4,>=2.5 in /home/conet/anaconda3/envs/lchain/lib/python3.10/site-packages (from requests<3,>=2->langchain-community) (3.7)\n",
      "Requirement already satisfied: urllib3<3,>=1.21.1 in /home/conet/anaconda3/envs/lchain/lib/python3.10/site-packages (from requests<3,>=2->langchain-community) (2.2.2)\n",
      "Requirement already satisfied: certifi>=2017.4.17 in /home/conet/anaconda3/envs/lchain/lib/python3.10/site-packages (from requests<3,>=2->langchain-community) (2024.7.4)\n",
      "Requirement already satisfied: greenlet!=0.4.17 in /home/conet/anaconda3/envs/lchain/lib/python3.10/site-packages (from SQLAlchemy<3,>=1.4->langchain-community) (3.0.3)\n",
      "Requirement already satisfied: jsonpointer>=1.9 in /home/conet/anaconda3/envs/lchain/lib/python3.10/site-packages (from jsonpatch<2.0,>=1.33->langchain-core<0.3.0,>=0.2.30->langchain-community) (3.0.0)\n",
      "Requirement already satisfied: annotated-types>=0.4.0 in /home/conet/anaconda3/envs/lchain/lib/python3.10/site-packages (from pydantic<3,>=1->langchain<0.3.0,>=0.2.13->langchain-community) (0.7.0)\n",
      "Requirement already satisfied: pydantic-core==2.20.1 in /home/conet/anaconda3/envs/lchain/lib/python3.10/site-packages (from pydantic<3,>=1->langchain<0.3.0,>=0.2.13->langchain-community) (2.20.1)\n",
      "Requirement already satisfied: mypy-extensions>=0.3.0 in /home/conet/anaconda3/envs/lchain/lib/python3.10/site-packages (from typing-inspect<1,>=0.4.0->dataclasses-json<0.7,>=0.5.7->langchain-community) (1.0.0)\n"
     ]
    }
   ],
   "source": [
    "!pip install langchain-community"
   ]
  },
  {
   "cell_type": "code",
   "execution_count": 5,
   "id": "0f65993c",
   "metadata": {},
   "outputs": [
    {
     "name": "stdout",
     "output_type": "stream",
     "text": [
      "Requirement already satisfied: sentence-transformers in /home/conet/anaconda3/envs/lchain/lib/python3.10/site-packages (3.0.1)\n",
      "Requirement already satisfied: transformers<5.0.0,>=4.34.0 in /home/conet/anaconda3/envs/lchain/lib/python3.10/site-packages (from sentence-transformers) (4.44.0)\n",
      "Requirement already satisfied: tqdm in /home/conet/anaconda3/envs/lchain/lib/python3.10/site-packages (from sentence-transformers) (4.66.5)\n",
      "Requirement already satisfied: torch>=1.11.0 in /home/conet/.local/lib/python3.10/site-packages (from sentence-transformers) (2.3.1)\n",
      "Requirement already satisfied: numpy in /home/conet/anaconda3/envs/lchain/lib/python3.10/site-packages (from sentence-transformers) (1.26.4)\n",
      "Requirement already satisfied: scikit-learn in /home/conet/anaconda3/envs/lchain/lib/python3.10/site-packages (from sentence-transformers) (1.5.1)\n",
      "Requirement already satisfied: scipy in /home/conet/anaconda3/envs/lchain/lib/python3.10/site-packages (from sentence-transformers) (1.14.0)\n",
      "Requirement already satisfied: huggingface-hub>=0.15.1 in /home/conet/anaconda3/envs/lchain/lib/python3.10/site-packages (from sentence-transformers) (0.24.6)\n",
      "Requirement already satisfied: Pillow in /home/conet/anaconda3/envs/lchain/lib/python3.10/site-packages (from sentence-transformers) (10.4.0)\n",
      "Requirement already satisfied: filelock in /home/conet/.local/lib/python3.10/site-packages (from huggingface-hub>=0.15.1->sentence-transformers) (3.15.4)\n",
      "Requirement already satisfied: fsspec>=2023.5.0 in /home/conet/.local/lib/python3.10/site-packages (from huggingface-hub>=0.15.1->sentence-transformers) (2024.6.1)\n",
      "Requirement already satisfied: packaging>=20.9 in /home/conet/anaconda3/envs/lchain/lib/python3.10/site-packages (from huggingface-hub>=0.15.1->sentence-transformers) (24.1)\n",
      "Requirement already satisfied: pyyaml>=5.1 in /home/conet/anaconda3/envs/lchain/lib/python3.10/site-packages (from huggingface-hub>=0.15.1->sentence-transformers) (6.0.2)\n",
      "Requirement already satisfied: requests in /home/conet/anaconda3/envs/lchain/lib/python3.10/site-packages (from huggingface-hub>=0.15.1->sentence-transformers) (2.32.3)\n",
      "Requirement already satisfied: typing-extensions>=3.7.4.3 in /home/conet/.local/lib/python3.10/site-packages (from huggingface-hub>=0.15.1->sentence-transformers) (4.12.2)\n",
      "Requirement already satisfied: sympy in /home/conet/.local/lib/python3.10/site-packages (from torch>=1.11.0->sentence-transformers) (1.13.0)\n",
      "Requirement already satisfied: networkx in /home/conet/.local/lib/python3.10/site-packages (from torch>=1.11.0->sentence-transformers) (3.3)\n",
      "Requirement already satisfied: jinja2 in /home/conet/.local/lib/python3.10/site-packages (from torch>=1.11.0->sentence-transformers) (3.1.4)\n",
      "Requirement already satisfied: nvidia-cuda-nvrtc-cu12==12.1.105 in /home/conet/.local/lib/python3.10/site-packages (from torch>=1.11.0->sentence-transformers) (12.1.105)\n",
      "Requirement already satisfied: nvidia-cuda-runtime-cu12==12.1.105 in /home/conet/.local/lib/python3.10/site-packages (from torch>=1.11.0->sentence-transformers) (12.1.105)\n",
      "Requirement already satisfied: nvidia-cuda-cupti-cu12==12.1.105 in /home/conet/.local/lib/python3.10/site-packages (from torch>=1.11.0->sentence-transformers) (12.1.105)\n",
      "Requirement already satisfied: nvidia-cudnn-cu12==8.9.2.26 in /home/conet/.local/lib/python3.10/site-packages (from torch>=1.11.0->sentence-transformers) (8.9.2.26)\n",
      "Requirement already satisfied: nvidia-cublas-cu12==12.1.3.1 in /home/conet/.local/lib/python3.10/site-packages (from torch>=1.11.0->sentence-transformers) (12.1.3.1)\n",
      "Requirement already satisfied: nvidia-cufft-cu12==11.0.2.54 in /home/conet/.local/lib/python3.10/site-packages (from torch>=1.11.0->sentence-transformers) (11.0.2.54)\n",
      "Requirement already satisfied: nvidia-curand-cu12==10.3.2.106 in /home/conet/.local/lib/python3.10/site-packages (from torch>=1.11.0->sentence-transformers) (10.3.2.106)\n",
      "Requirement already satisfied: nvidia-cusolver-cu12==11.4.5.107 in /home/conet/.local/lib/python3.10/site-packages (from torch>=1.11.0->sentence-transformers) (11.4.5.107)\n",
      "Requirement already satisfied: nvidia-cusparse-cu12==12.1.0.106 in /home/conet/.local/lib/python3.10/site-packages (from torch>=1.11.0->sentence-transformers) (12.1.0.106)\n",
      "Requirement already satisfied: nvidia-nccl-cu12==2.20.5 in /home/conet/.local/lib/python3.10/site-packages (from torch>=1.11.0->sentence-transformers) (2.20.5)\n",
      "Requirement already satisfied: nvidia-nvtx-cu12==12.1.105 in /home/conet/.local/lib/python3.10/site-packages (from torch>=1.11.0->sentence-transformers) (12.1.105)\n",
      "Requirement already satisfied: triton==2.3.1 in /home/conet/.local/lib/python3.10/site-packages (from torch>=1.11.0->sentence-transformers) (2.3.1)\n",
      "Requirement already satisfied: nvidia-nvjitlink-cu12 in /home/conet/.local/lib/python3.10/site-packages (from nvidia-cusolver-cu12==11.4.5.107->torch>=1.11.0->sentence-transformers) (12.5.82)\n",
      "Requirement already satisfied: regex!=2019.12.17 in /home/conet/anaconda3/envs/lchain/lib/python3.10/site-packages (from transformers<5.0.0,>=4.34.0->sentence-transformers) (2024.7.24)\n",
      "Requirement already satisfied: safetensors>=0.4.1 in /home/conet/anaconda3/envs/lchain/lib/python3.10/site-packages (from transformers<5.0.0,>=4.34.0->sentence-transformers) (0.4.4)\n",
      "Requirement already satisfied: tokenizers<0.20,>=0.19 in /home/conet/anaconda3/envs/lchain/lib/python3.10/site-packages (from transformers<5.0.0,>=4.34.0->sentence-transformers) (0.19.1)\n",
      "Requirement already satisfied: joblib>=1.2.0 in /home/conet/anaconda3/envs/lchain/lib/python3.10/site-packages (from scikit-learn->sentence-transformers) (1.4.2)\n",
      "Requirement already satisfied: threadpoolctl>=3.1.0 in /home/conet/anaconda3/envs/lchain/lib/python3.10/site-packages (from scikit-learn->sentence-transformers) (3.5.0)\n",
      "Requirement already satisfied: MarkupSafe>=2.0 in /home/conet/anaconda3/envs/lchain/lib/python3.10/site-packages (from jinja2->torch>=1.11.0->sentence-transformers) (2.1.5)\n",
      "Requirement already satisfied: charset-normalizer<4,>=2 in /home/conet/anaconda3/envs/lchain/lib/python3.10/site-packages (from requests->huggingface-hub>=0.15.1->sentence-transformers) (3.3.2)\n",
      "Requirement already satisfied: idna<4,>=2.5 in /home/conet/anaconda3/envs/lchain/lib/python3.10/site-packages (from requests->huggingface-hub>=0.15.1->sentence-transformers) (3.7)\n",
      "Requirement already satisfied: urllib3<3,>=1.21.1 in /home/conet/anaconda3/envs/lchain/lib/python3.10/site-packages (from requests->huggingface-hub>=0.15.1->sentence-transformers) (2.2.2)\n",
      "Requirement already satisfied: certifi>=2017.4.17 in /home/conet/anaconda3/envs/lchain/lib/python3.10/site-packages (from requests->huggingface-hub>=0.15.1->sentence-transformers) (2024.7.4)\n",
      "Requirement already satisfied: mpmath<1.4,>=1.1.0 in /home/conet/.local/lib/python3.10/site-packages (from sympy->torch>=1.11.0->sentence-transformers) (1.3.0)\n",
      "Note: you may need to restart the kernel to use updated packages.\n"
     ]
    }
   ],
   "source": [
    "pip install sentence-transformers"
   ]
  },
  {
   "cell_type": "code",
   "execution_count": 6,
   "id": "e515e357",
   "metadata": {},
   "outputs": [
    {
     "name": "stdout",
     "output_type": "stream",
     "text": [
      "Requirement already satisfied: chromadb in /home/conet/anaconda3/envs/lchain/lib/python3.10/site-packages (0.5.5)\n",
      "Requirement already satisfied: build>=1.0.3 in /home/conet/anaconda3/envs/lchain/lib/python3.10/site-packages (from chromadb) (1.2.1)\n",
      "Requirement already satisfied: pydantic>=1.9 in /home/conet/anaconda3/envs/lchain/lib/python3.10/site-packages (from chromadb) (2.8.2)\n",
      "Requirement already satisfied: chroma-hnswlib==0.7.6 in /home/conet/anaconda3/envs/lchain/lib/python3.10/site-packages (from chromadb) (0.7.6)\n",
      "Requirement already satisfied: fastapi>=0.95.2 in /home/conet/anaconda3/envs/lchain/lib/python3.10/site-packages (from chromadb) (0.112.1)\n",
      "Requirement already satisfied: uvicorn>=0.18.3 in /home/conet/anaconda3/envs/lchain/lib/python3.10/site-packages (from uvicorn[standard]>=0.18.3->chromadb) (0.30.6)\n",
      "Requirement already satisfied: numpy<2.0.0,>=1.22.5 in /home/conet/anaconda3/envs/lchain/lib/python3.10/site-packages (from chromadb) (1.26.4)\n",
      "Requirement already satisfied: posthog>=2.4.0 in /home/conet/anaconda3/envs/lchain/lib/python3.10/site-packages (from chromadb) (3.5.0)\n",
      "Requirement already satisfied: typing-extensions>=4.5.0 in /home/conet/.local/lib/python3.10/site-packages (from chromadb) (4.12.2)\n",
      "Requirement already satisfied: onnxruntime>=1.14.1 in /home/conet/anaconda3/envs/lchain/lib/python3.10/site-packages (from chromadb) (1.19.0)\n",
      "Requirement already satisfied: opentelemetry-api>=1.2.0 in /home/conet/anaconda3/envs/lchain/lib/python3.10/site-packages (from chromadb) (1.26.0)\n",
      "Requirement already satisfied: opentelemetry-exporter-otlp-proto-grpc>=1.2.0 in /home/conet/anaconda3/envs/lchain/lib/python3.10/site-packages (from chromadb) (1.26.0)\n",
      "Requirement already satisfied: opentelemetry-instrumentation-fastapi>=0.41b0 in /home/conet/anaconda3/envs/lchain/lib/python3.10/site-packages (from chromadb) (0.47b0)\n",
      "Requirement already satisfied: opentelemetry-sdk>=1.2.0 in /home/conet/anaconda3/envs/lchain/lib/python3.10/site-packages (from chromadb) (1.26.0)\n",
      "Requirement already satisfied: tokenizers>=0.13.2 in /home/conet/anaconda3/envs/lchain/lib/python3.10/site-packages (from chromadb) (0.19.1)\n",
      "Requirement already satisfied: pypika>=0.48.9 in /home/conet/anaconda3/envs/lchain/lib/python3.10/site-packages (from chromadb) (0.48.9)\n",
      "Requirement already satisfied: tqdm>=4.65.0 in /home/conet/anaconda3/envs/lchain/lib/python3.10/site-packages (from chromadb) (4.66.5)\n",
      "Requirement already satisfied: overrides>=7.3.1 in /home/conet/anaconda3/envs/lchain/lib/python3.10/site-packages (from chromadb) (7.7.0)\n",
      "Requirement already satisfied: importlib-resources in /home/conet/anaconda3/envs/lchain/lib/python3.10/site-packages (from chromadb) (6.4.3)\n",
      "Requirement already satisfied: grpcio>=1.58.0 in /home/conet/anaconda3/envs/lchain/lib/python3.10/site-packages (from chromadb) (1.65.5)\n",
      "Requirement already satisfied: bcrypt>=4.0.1 in /home/conet/anaconda3/envs/lchain/lib/python3.10/site-packages (from chromadb) (4.2.0)\n",
      "Requirement already satisfied: typer>=0.9.0 in /home/conet/anaconda3/envs/lchain/lib/python3.10/site-packages (from chromadb) (0.12.4)\n",
      "Requirement already satisfied: kubernetes>=28.1.0 in /home/conet/anaconda3/envs/lchain/lib/python3.10/site-packages (from chromadb) (30.1.0)\n",
      "Requirement already satisfied: tenacity>=8.2.3 in /home/conet/anaconda3/envs/lchain/lib/python3.10/site-packages (from chromadb) (8.5.0)\n",
      "Requirement already satisfied: PyYAML>=6.0.0 in /home/conet/anaconda3/envs/lchain/lib/python3.10/site-packages (from chromadb) (6.0.2)\n",
      "Requirement already satisfied: mmh3>=4.0.1 in /home/conet/anaconda3/envs/lchain/lib/python3.10/site-packages (from chromadb) (4.1.0)\n",
      "Requirement already satisfied: orjson>=3.9.12 in /home/conet/anaconda3/envs/lchain/lib/python3.10/site-packages (from chromadb) (3.10.7)\n",
      "Requirement already satisfied: httpx>=0.27.0 in /home/conet/anaconda3/envs/lchain/lib/python3.10/site-packages (from chromadb) (0.27.0)\n",
      "Requirement already satisfied: packaging>=19.1 in /home/conet/anaconda3/envs/lchain/lib/python3.10/site-packages (from build>=1.0.3->chromadb) (24.1)\n",
      "Requirement already satisfied: pyproject_hooks in /home/conet/anaconda3/envs/lchain/lib/python3.10/site-packages (from build>=1.0.3->chromadb) (1.1.0)\n",
      "Requirement already satisfied: tomli>=1.1.0 in /home/conet/anaconda3/envs/lchain/lib/python3.10/site-packages (from build>=1.0.3->chromadb) (2.0.1)\n",
      "Requirement already satisfied: starlette<0.39.0,>=0.37.2 in /home/conet/anaconda3/envs/lchain/lib/python3.10/site-packages (from fastapi>=0.95.2->chromadb) (0.38.2)\n",
      "Requirement already satisfied: anyio in /home/conet/anaconda3/envs/lchain/lib/python3.10/site-packages (from httpx>=0.27.0->chromadb) (4.4.0)\n",
      "Requirement already satisfied: certifi in /home/conet/anaconda3/envs/lchain/lib/python3.10/site-packages (from httpx>=0.27.0->chromadb) (2024.7.4)\n",
      "Requirement already satisfied: httpcore==1.* in /home/conet/anaconda3/envs/lchain/lib/python3.10/site-packages (from httpx>=0.27.0->chromadb) (1.0.5)\n",
      "Requirement already satisfied: idna in /home/conet/anaconda3/envs/lchain/lib/python3.10/site-packages (from httpx>=0.27.0->chromadb) (3.7)\n",
      "Requirement already satisfied: sniffio in /home/conet/anaconda3/envs/lchain/lib/python3.10/site-packages (from httpx>=0.27.0->chromadb) (1.3.1)\n",
      "Requirement already satisfied: h11<0.15,>=0.13 in /home/conet/anaconda3/envs/lchain/lib/python3.10/site-packages (from httpcore==1.*->httpx>=0.27.0->chromadb) (0.14.0)\n",
      "Requirement already satisfied: six>=1.9.0 in /home/conet/anaconda3/envs/lchain/lib/python3.10/site-packages (from kubernetes>=28.1.0->chromadb) (1.16.0)\n",
      "Requirement already satisfied: python-dateutil>=2.5.3 in /home/conet/anaconda3/envs/lchain/lib/python3.10/site-packages (from kubernetes>=28.1.0->chromadb) (2.9.0)\n",
      "Requirement already satisfied: google-auth>=1.0.1 in /home/conet/anaconda3/envs/lchain/lib/python3.10/site-packages (from kubernetes>=28.1.0->chromadb) (2.34.0)\n",
      "Requirement already satisfied: websocket-client!=0.40.0,!=0.41.*,!=0.42.*,>=0.32.0 in /home/conet/anaconda3/envs/lchain/lib/python3.10/site-packages (from kubernetes>=28.1.0->chromadb) (1.8.0)\n",
      "Requirement already satisfied: requests in /home/conet/anaconda3/envs/lchain/lib/python3.10/site-packages (from kubernetes>=28.1.0->chromadb) (2.32.3)\n",
      "Requirement already satisfied: requests-oauthlib in /home/conet/anaconda3/envs/lchain/lib/python3.10/site-packages (from kubernetes>=28.1.0->chromadb) (2.0.0)\n",
      "Requirement already satisfied: oauthlib>=3.2.2 in /home/conet/anaconda3/envs/lchain/lib/python3.10/site-packages (from kubernetes>=28.1.0->chromadb) (3.2.2)\n",
      "Requirement already satisfied: urllib3>=1.24.2 in /home/conet/anaconda3/envs/lchain/lib/python3.10/site-packages (from kubernetes>=28.1.0->chromadb) (2.2.2)\n",
      "Requirement already satisfied: coloredlogs in /home/conet/anaconda3/envs/lchain/lib/python3.10/site-packages (from onnxruntime>=1.14.1->chromadb) (15.0.1)\n",
      "Requirement already satisfied: flatbuffers in /home/conet/anaconda3/envs/lchain/lib/python3.10/site-packages (from onnxruntime>=1.14.1->chromadb) (24.3.25)\n",
      "Requirement already satisfied: protobuf in /home/conet/anaconda3/envs/lchain/lib/python3.10/site-packages (from onnxruntime>=1.14.1->chromadb) (4.25.4)\n",
      "Requirement already satisfied: sympy in /home/conet/.local/lib/python3.10/site-packages (from onnxruntime>=1.14.1->chromadb) (1.13.0)\n",
      "Requirement already satisfied: deprecated>=1.2.6 in /home/conet/anaconda3/envs/lchain/lib/python3.10/site-packages (from opentelemetry-api>=1.2.0->chromadb) (1.2.14)\n",
      "Requirement already satisfied: importlib-metadata<=8.0.0,>=6.0 in /home/conet/anaconda3/envs/lchain/lib/python3.10/site-packages (from opentelemetry-api>=1.2.0->chromadb) (8.0.0)\n",
      "Requirement already satisfied: googleapis-common-protos~=1.52 in /home/conet/anaconda3/envs/lchain/lib/python3.10/site-packages (from opentelemetry-exporter-otlp-proto-grpc>=1.2.0->chromadb) (1.63.2)\n",
      "Requirement already satisfied: opentelemetry-exporter-otlp-proto-common==1.26.0 in /home/conet/anaconda3/envs/lchain/lib/python3.10/site-packages (from opentelemetry-exporter-otlp-proto-grpc>=1.2.0->chromadb) (1.26.0)\n",
      "Requirement already satisfied: opentelemetry-proto==1.26.0 in /home/conet/anaconda3/envs/lchain/lib/python3.10/site-packages (from opentelemetry-exporter-otlp-proto-grpc>=1.2.0->chromadb) (1.26.0)\n",
      "Requirement already satisfied: opentelemetry-instrumentation-asgi==0.47b0 in /home/conet/anaconda3/envs/lchain/lib/python3.10/site-packages (from opentelemetry-instrumentation-fastapi>=0.41b0->chromadb) (0.47b0)\n",
      "Requirement already satisfied: opentelemetry-instrumentation==0.47b0 in /home/conet/anaconda3/envs/lchain/lib/python3.10/site-packages (from opentelemetry-instrumentation-fastapi>=0.41b0->chromadb) (0.47b0)\n",
      "Requirement already satisfied: opentelemetry-semantic-conventions==0.47b0 in /home/conet/anaconda3/envs/lchain/lib/python3.10/site-packages (from opentelemetry-instrumentation-fastapi>=0.41b0->chromadb) (0.47b0)\n",
      "Requirement already satisfied: opentelemetry-util-http==0.47b0 in /home/conet/anaconda3/envs/lchain/lib/python3.10/site-packages (from opentelemetry-instrumentation-fastapi>=0.41b0->chromadb) (0.47b0)\n",
      "Requirement already satisfied: setuptools>=16.0 in /home/conet/anaconda3/envs/lchain/lib/python3.10/site-packages (from opentelemetry-instrumentation==0.47b0->opentelemetry-instrumentation-fastapi>=0.41b0->chromadb) (72.1.0)\n",
      "Requirement already satisfied: wrapt<2.0.0,>=1.0.0 in /home/conet/anaconda3/envs/lchain/lib/python3.10/site-packages (from opentelemetry-instrumentation==0.47b0->opentelemetry-instrumentation-fastapi>=0.41b0->chromadb) (1.16.0)\n",
      "Requirement already satisfied: asgiref~=3.0 in /home/conet/anaconda3/envs/lchain/lib/python3.10/site-packages (from opentelemetry-instrumentation-asgi==0.47b0->opentelemetry-instrumentation-fastapi>=0.41b0->chromadb) (3.8.1)\n",
      "Requirement already satisfied: monotonic>=1.5 in /home/conet/anaconda3/envs/lchain/lib/python3.10/site-packages (from posthog>=2.4.0->chromadb) (1.6)\n",
      "Requirement already satisfied: backoff>=1.10.0 in /home/conet/anaconda3/envs/lchain/lib/python3.10/site-packages (from posthog>=2.4.0->chromadb) (2.2.1)\n",
      "Requirement already satisfied: annotated-types>=0.4.0 in /home/conet/anaconda3/envs/lchain/lib/python3.10/site-packages (from pydantic>=1.9->chromadb) (0.7.0)\n",
      "Requirement already satisfied: pydantic-core==2.20.1 in /home/conet/anaconda3/envs/lchain/lib/python3.10/site-packages (from pydantic>=1.9->chromadb) (2.20.1)\n",
      "Requirement already satisfied: huggingface-hub<1.0,>=0.16.4 in /home/conet/anaconda3/envs/lchain/lib/python3.10/site-packages (from tokenizers>=0.13.2->chromadb) (0.24.6)\n",
      "Requirement already satisfied: click>=8.0.0 in /home/conet/anaconda3/envs/lchain/lib/python3.10/site-packages (from typer>=0.9.0->chromadb) (8.1.7)\n",
      "Requirement already satisfied: shellingham>=1.3.0 in /home/conet/anaconda3/envs/lchain/lib/python3.10/site-packages (from typer>=0.9.0->chromadb) (1.5.4)\n",
      "Requirement already satisfied: rich>=10.11.0 in /home/conet/anaconda3/envs/lchain/lib/python3.10/site-packages (from typer>=0.9.0->chromadb) (13.7.1)\n",
      "Requirement already satisfied: httptools>=0.5.0 in /home/conet/anaconda3/envs/lchain/lib/python3.10/site-packages (from uvicorn[standard]>=0.18.3->chromadb) (0.6.1)\n",
      "Requirement already satisfied: python-dotenv>=0.13 in /home/conet/anaconda3/envs/lchain/lib/python3.10/site-packages (from uvicorn[standard]>=0.18.3->chromadb) (1.0.1)\n",
      "Requirement already satisfied: uvloop!=0.15.0,!=0.15.1,>=0.14.0 in /home/conet/anaconda3/envs/lchain/lib/python3.10/site-packages (from uvicorn[standard]>=0.18.3->chromadb) (0.20.0)\n",
      "Requirement already satisfied: watchfiles>=0.13 in /home/conet/anaconda3/envs/lchain/lib/python3.10/site-packages (from uvicorn[standard]>=0.18.3->chromadb) (0.23.0)\n",
      "Requirement already satisfied: websockets>=10.4 in /home/conet/anaconda3/envs/lchain/lib/python3.10/site-packages (from uvicorn[standard]>=0.18.3->chromadb) (12.0)\n",
      "Requirement already satisfied: cachetools<6.0,>=2.0.0 in /home/conet/anaconda3/envs/lchain/lib/python3.10/site-packages (from google-auth>=1.0.1->kubernetes>=28.1.0->chromadb) (5.5.0)\n",
      "Requirement already satisfied: pyasn1-modules>=0.2.1 in /home/conet/anaconda3/envs/lchain/lib/python3.10/site-packages (from google-auth>=1.0.1->kubernetes>=28.1.0->chromadb) (0.4.0)\n",
      "Requirement already satisfied: rsa<5,>=3.1.4 in /home/conet/anaconda3/envs/lchain/lib/python3.10/site-packages (from google-auth>=1.0.1->kubernetes>=28.1.0->chromadb) (4.9)\n",
      "Requirement already satisfied: filelock in /home/conet/.local/lib/python3.10/site-packages (from huggingface-hub<1.0,>=0.16.4->tokenizers>=0.13.2->chromadb) (3.15.4)\n",
      "Requirement already satisfied: fsspec>=2023.5.0 in /home/conet/.local/lib/python3.10/site-packages (from huggingface-hub<1.0,>=0.16.4->tokenizers>=0.13.2->chromadb) (2024.6.1)\n",
      "Requirement already satisfied: zipp>=0.5 in /home/conet/anaconda3/envs/lchain/lib/python3.10/site-packages (from importlib-metadata<=8.0.0,>=6.0->opentelemetry-api>=1.2.0->chromadb) (3.20.0)\n",
      "Requirement already satisfied: charset-normalizer<4,>=2 in /home/conet/anaconda3/envs/lchain/lib/python3.10/site-packages (from requests->kubernetes>=28.1.0->chromadb) (3.3.2)\n",
      "Requirement already satisfied: markdown-it-py>=2.2.0 in /home/conet/anaconda3/envs/lchain/lib/python3.10/site-packages (from rich>=10.11.0->typer>=0.9.0->chromadb) (3.0.0)\n",
      "Requirement already satisfied: pygments<3.0.0,>=2.13.0 in /home/conet/anaconda3/envs/lchain/lib/python3.10/site-packages (from rich>=10.11.0->typer>=0.9.0->chromadb) (2.18.0)\n",
      "Requirement already satisfied: exceptiongroup>=1.0.2 in /home/conet/anaconda3/envs/lchain/lib/python3.10/site-packages (from anyio->httpx>=0.27.0->chromadb) (1.2.2)\n",
      "Requirement already satisfied: humanfriendly>=9.1 in /home/conet/anaconda3/envs/lchain/lib/python3.10/site-packages (from coloredlogs->onnxruntime>=1.14.1->chromadb) (10.0)\n",
      "Requirement already satisfied: mpmath<1.4,>=1.1.0 in /home/conet/.local/lib/python3.10/site-packages (from sympy->onnxruntime>=1.14.1->chromadb) (1.3.0)\n",
      "Requirement already satisfied: mdurl~=0.1 in /home/conet/anaconda3/envs/lchain/lib/python3.10/site-packages (from markdown-it-py>=2.2.0->rich>=10.11.0->typer>=0.9.0->chromadb) (0.1.2)\n",
      "Requirement already satisfied: pyasn1<0.7.0,>=0.4.6 in /home/conet/anaconda3/envs/lchain/lib/python3.10/site-packages (from pyasn1-modules>=0.2.1->google-auth>=1.0.1->kubernetes>=28.1.0->chromadb) (0.6.0)\n"
     ]
    }
   ],
   "source": [
    "!pip install chromadb"
   ]
  },
  {
   "cell_type": "code",
   "execution_count": 7,
   "id": "c3c75c1f",
   "metadata": {},
   "outputs": [
    {
     "name": "stdout",
     "output_type": "stream",
     "text": [
      "Requirement already satisfied: openai in /home/conet/anaconda3/envs/lchain/lib/python3.10/site-packages (1.41.1)\n",
      "Requirement already satisfied: anyio<5,>=3.5.0 in /home/conet/anaconda3/envs/lchain/lib/python3.10/site-packages (from openai) (4.4.0)\n",
      "Requirement already satisfied: distro<2,>=1.7.0 in /home/conet/anaconda3/envs/lchain/lib/python3.10/site-packages (from openai) (1.9.0)\n",
      "Requirement already satisfied: httpx<1,>=0.23.0 in /home/conet/anaconda3/envs/lchain/lib/python3.10/site-packages (from openai) (0.27.0)\n",
      "Requirement already satisfied: jiter<1,>=0.4.0 in /home/conet/anaconda3/envs/lchain/lib/python3.10/site-packages (from openai) (0.5.0)\n",
      "Requirement already satisfied: pydantic<3,>=1.9.0 in /home/conet/anaconda3/envs/lchain/lib/python3.10/site-packages (from openai) (2.8.2)\n",
      "Requirement already satisfied: sniffio in /home/conet/anaconda3/envs/lchain/lib/python3.10/site-packages (from openai) (1.3.1)\n",
      "Requirement already satisfied: tqdm>4 in /home/conet/anaconda3/envs/lchain/lib/python3.10/site-packages (from openai) (4.66.5)\n",
      "Requirement already satisfied: typing-extensions<5,>=4.11 in /home/conet/.local/lib/python3.10/site-packages (from openai) (4.12.2)\n",
      "Requirement already satisfied: idna>=2.8 in /home/conet/anaconda3/envs/lchain/lib/python3.10/site-packages (from anyio<5,>=3.5.0->openai) (3.7)\n",
      "Requirement already satisfied: exceptiongroup>=1.0.2 in /home/conet/anaconda3/envs/lchain/lib/python3.10/site-packages (from anyio<5,>=3.5.0->openai) (1.2.2)\n",
      "Requirement already satisfied: certifi in /home/conet/anaconda3/envs/lchain/lib/python3.10/site-packages (from httpx<1,>=0.23.0->openai) (2024.7.4)\n",
      "Requirement already satisfied: httpcore==1.* in /home/conet/anaconda3/envs/lchain/lib/python3.10/site-packages (from httpx<1,>=0.23.0->openai) (1.0.5)\n",
      "Requirement already satisfied: h11<0.15,>=0.13 in /home/conet/anaconda3/envs/lchain/lib/python3.10/site-packages (from httpcore==1.*->httpx<1,>=0.23.0->openai) (0.14.0)\n",
      "Requirement already satisfied: annotated-types>=0.4.0 in /home/conet/anaconda3/envs/lchain/lib/python3.10/site-packages (from pydantic<3,>=1.9.0->openai) (0.7.0)\n",
      "Requirement already satisfied: pydantic-core==2.20.1 in /home/conet/anaconda3/envs/lchain/lib/python3.10/site-packages (from pydantic<3,>=1.9.0->openai) (2.20.1)\n"
     ]
    }
   ],
   "source": [
    "!pip install openai"
   ]
  },
  {
   "cell_type": "code",
   "execution_count": 8,
   "id": "4ff7f738",
   "metadata": {},
   "outputs": [
    {
     "name": "stdout",
     "output_type": "stream",
     "text": [
      "Name: langchain\n",
      "Version: 0.2.14\n",
      "Summary: Building applications with LLMs through composability\n",
      "Home-page: https://github.com/langchain-ai/langchain\n",
      "Author: \n",
      "Author-email: \n",
      "License: MIT\n",
      "Location: /home/conet/anaconda3/envs/lchain/lib/python3.10/site-packages\n",
      "Requires: aiohttp, async-timeout, langchain-core, langchain-text-splitters, langsmith, numpy, pydantic, PyYAML, requests, SQLAlchemy, tenacity\n",
      "Required-by: langchain-community\n"
     ]
    }
   ],
   "source": [
    "!pip show langchain"
   ]
  },
  {
   "cell_type": "code",
   "execution_count": 9,
   "id": "916ca469",
   "metadata": {},
   "outputs": [],
   "source": [
    "from langchain.document_loaders import TextLoader\n",
    "loader = TextLoader('/home/conet/다운로드/AI.txt')\n",
    "documents = loader.load()"
   ]
  },
  {
   "cell_type": "code",
   "execution_count": 10,
   "id": "67a0ead6",
   "metadata": {},
   "outputs": [],
   "source": [
    "from langchain.text_splitter import RecursiveCharacterTextSplitter\n",
    "\n",
    "# 문서를 청크로 분할 : 큰 덩어리의 문서를 작은 덩어리로 분할하는 과정 / langchain에서 제공하는 RecursiveCharacterTextSplitter 이용\n",
    "def split_docs(documents, chunk_size=1000, chunk_overlap=20):\n",
    "    text_splitter = RecursiveCharacterTextSplitter(chunk_size=chunk_size, chunk_overlap=chunk_overlap)\n",
    "    docs = text_splitter.split_documents(documents)\n",
    "    return docs\n",
    "\n",
    "# docs 변수에 분할 문서를 저장\n",
    "docs = split_docs(documents)\n"
   ]
  },
  {
   "cell_type": "code",
   "execution_count": 11,
   "id": "082c2e73",
   "metadata": {},
   "outputs": [
    {
     "name": "stderr",
     "output_type": "stream",
     "text": [
      "/home/conet/anaconda3/envs/lchain/lib/python3.10/site-packages/langchain_core/_api/deprecation.py:141: LangChainDeprecationWarning: The class `HuggingFaceEmbeddings` was deprecated in LangChain 0.2.2 and will be removed in 0.3.0. An updated version of the class exists in the langchain-huggingface package and should be used instead. To use it run `pip install -U langchain-huggingface` and import as `from langchain_huggingface import HuggingFaceEmbeddings`.\n",
      "  warn_deprecated(\n",
      "/home/conet/anaconda3/envs/lchain/lib/python3.10/site-packages/sentence_transformers/cross_encoder/CrossEncoder.py:11: TqdmWarning: IProgress not found. Please update jupyter and ipywidgets. See https://ipywidgets.readthedocs.io/en/stable/user_install.html\n",
      "  from tqdm.autonotebook import tqdm, trange\n",
      "/home/conet/.local/lib/python3.10/site-packages/torch/cuda/__init__.py:118: UserWarning: CUDA initialization: CUDA unknown error - this may be due to an incorrectly set up environment, e.g. changing env variable CUDA_VISIBLE_DEVICES after program start. Setting the available devices to be zero. (Triggered internally at ../c10/cuda/CUDAFunctions.cpp:108.)\n",
      "  return torch._C._cuda_getDeviceCount() > 0\n",
      "/home/conet/anaconda3/envs/lchain/lib/python3.10/site-packages/transformers/tokenization_utils_base.py:1601: FutureWarning: `clean_up_tokenization_spaces` was not set. It will be set to `True` by default. This behavior will be depracted in transformers v4.45, and will be then set to `False` by default. For more details check this issue: https://github.com/huggingface/transformers/issues/31884\n",
      "  warnings.warn(\n"
     ]
    }
   ],
   "source": [
    "from langchain.embeddings import SentenceTransformerEmbeddings\n",
    "# 임베딩 : 'all_MiniLM-L6-v2'모델 사용\n",
    "embeddings = SentenceTransformerEmbeddings(model_name='all-MiniLM-L6-v2')\n",
    "\n",
    "# Chroam(벡터 db)에 임베딩 처리된 벡터 저장\n",
    "from langchain.vectorstores import Chroma\n",
    "db = Chroma.from_documents(docs, embeddings)"
   ]
  },
  {
   "cell_type": "code",
   "execution_count": 12,
   "id": "b0f39981",
   "metadata": {},
   "outputs": [
    {
     "name": "stderr",
     "output_type": "stream",
     "text": [
      "/home/conet/anaconda3/envs/lchain/lib/python3.10/site-packages/langchain_core/_api/deprecation.py:141: LangChainDeprecationWarning: This class is deprecated. See the following migration guides for replacements based on `chain_type`:\n",
      "stuff: https://python.langchain.com/v0.2/docs/versions/migrating_chains/stuff_docs_chain\n",
      "map_reduce: https://python.langchain.com/v0.2/docs/versions/migrating_chains/map_reduce_chain\n",
      "refine: https://python.langchain.com/v0.2/docs/versions/migrating_chains/refine_chain\n",
      "map_rerank: https://python.langchain.com/v0.2/docs/versions/migrating_chains/map_rerank_docs_chain\n",
      "\n",
      "See also guides on retrieval and question-answering here: https://python.langchain.com/v0.2/docs/how_to/#qa-with-rag\n",
      "  warn_deprecated(\n",
      "Number of requested results 4 is greater than number of elements in index 1, updating n_results = 1\n",
      "/home/conet/anaconda3/envs/lchain/lib/python3.10/site-packages/langchain_core/_api/deprecation.py:141: LangChainDeprecationWarning: The method `Chain.run` was deprecated in langchain 0.1.0 and will be removed in 1.0. Use invoke instead.\n",
      "  warn_deprecated(\n"
     ]
    },
    {
     "name": "stdout",
     "output_type": "stream",
     "text": [
      "\n",
      "\n",
      "\u001b[1m> Entering new StuffDocumentsChain chain...\u001b[0m\n",
      "\n",
      "\n",
      "\u001b[1m> Entering new LLMChain chain...\u001b[0m\n",
      "Prompt after formatting:\n",
      "\u001b[32;1m\u001b[1;3mUse the following pieces of context to answer the question at the end. If you don't know the answer, just say that you don't know, don't try to make up an answer.\n",
      "\n",
      "AI(인공지능) 정보 요약:\n",
      "\n",
      "AI(인공지능)는 컴퓨터 프로그램이나 기계가 인간의 지능을 모방할 수 있는 능력을 의미합니다. 이 능력에는 학습, 문제 해결, 언어 이해, 패턴 인식, 그리고 의사 결정 등이 포함됩니다.\n",
      "\n",
      "AI의 주요 유형:\n",
      "1. 좁은 AI (Narrow AI): 특정 작업을 수행하도록 설계된 AI로, 예를 들어 언어 번역, 이미지 인식, 체스 게임 등이 있습니다.\n",
      "2. 일반 AI (General AI): 인간의 지적 능력을 광범위하게 재현하는 것을 목표로 하는 AI로, 이론적으로 인간이 할 수 있는 모든 인지적 작업을 수행할 수 있어야 합니다.\n",
      "3. 생성적 AI (Generative AI): 기존 데이터를 학습하여 새로운 콘텐츠(텍스트, 이미지, 음악 등)를 생성하는 AI의 한 유형입니다.\n",
      "\n",
      "AI의 응용:\n",
      "- 의료: 질병 진단, 환자 결과 예측, 개인 맞춤형 치료 등.\n",
      "- 일상 생활: 가상 비서(Siri, Alexa), 추천 시스템(넷플릭스, 아마존), 자율주행차 등.\n",
      "\n",
      "Question: AI란?\n",
      "Helpful Answer:\u001b[0m\n",
      "\n",
      "\u001b[1m> Finished chain.\u001b[0m\n",
      "\n",
      "\u001b[1m> Finished chain.\u001b[0m\n"
     ]
    },
    {
     "data": {
      "text/plain": [
       "'According to the context, AI (인공지능) means the ability of a computer program or machine to mimic human intelligence. This includes abilities such as learning, problem-solving, language understanding, pattern recognition, and decision-making.\\n\\nSo, the answer is: 인공지능 (AI) - the ability of a computer program or machine to mimic human intelligence.'"
      ]
     },
     "execution_count": 12,
     "metadata": {},
     "output_type": "execute_result"
    }
   ],
   "source": [
    "from langchain_community.llms import Ollama\n",
    "llm = Ollama(model='llama3')\n",
    "\n",
    "# Q&A 체인을 사용하여 쿼리에 대한 답변 얻기\n",
    "from langchain.chains.question_answering import load_qa_chain\n",
    "chain = load_qa_chain(llm, chain_type='stuff', verbose=True)\n",
    "\n",
    "# 쿼리를 작성하고 유사도 검색을 수행하여 답변을 생성, 따라서 텍스트에 있는 내용을 질의해야 합니다.\n",
    "query = 'AI란?'\n",
    "# 쿼리와 가장 가까운 벡터(문서)를 반환 (유사도 계산) -> 입력된 쿼리와 가장 유사한 문서를 db에서 찾아냄\n",
    "matching_docs = db.similarity_search(query)\n",
    "# chain.run() 메서드를 통해 유사 문서(matching_docs)를 입력으로 받아 질문(query)에 대한 답변 생성\n",
    "answer = chain.run(input_documents=matching_docs, question=query)\n",
    "answer"
   ]
  }
 ],
 "metadata": {
  "kernelspec": {
   "display_name": "Python 3 (ipykernel)",
   "language": "python",
   "name": "python3"
  },
  "language_info": {
   "codemirror_mode": {
    "name": "ipython",
    "version": 3
   },
   "file_extension": ".py",
   "mimetype": "text/x-python",
   "name": "python",
   "nbconvert_exporter": "python",
   "pygments_lexer": "ipython3",
   "version": "3.10.14"
  }
 },
 "nbformat": 4,
 "nbformat_minor": 5
}
